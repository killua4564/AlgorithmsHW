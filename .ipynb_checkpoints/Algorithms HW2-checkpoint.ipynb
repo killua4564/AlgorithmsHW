{
 "cells": [
  {
   "cell_type": "code",
   "execution_count": 1,
   "metadata": {},
   "outputs": [
    {
     "name": "stdout",
     "output_type": "stream",
     "text": [
      "------ linear probing ------\n",
      "10-->index=10, i=0\n",
      "22-->index=0, i=0\n",
      "31-->index=9, i=0\n",
      "4-->index=4, i=0\n",
      "12-->index=1, i=0\n",
      "27-->index=5, i=0\n",
      "17-->index=6, i=0\n",
      "86-->index=9, i=4\n",
      "60-->index=5, i=2\n",
      "[22, 12, 86, None, 4, 27, 17, 60, None, 31, 10]\n",
      "------ quadratic probing ------\n",
      "10-->index=10, i=0\n",
      "22-->index=0, i=0\n",
      "31-->index=9, i=0\n",
      "4-->index=4, i=0\n",
      "12-->index=1, i=0\n",
      "27-->index=5, i=0\n",
      "17-->index=6, i=0\n",
      "86-->index=9, i=1\n",
      "60-->index=5, i=2\n",
      "[22, 12, 86, None, 4, 27, 17, None, 60, 31, 10]\n",
      "------ double hashing ------\n",
      "10-->index=10, i=0\n",
      "22-->index=0, i=0\n",
      "31-->index=9, i=0\n",
      "4-->index=4, i=0\n",
      "12-->index=1, i=0\n",
      "27-->index=5, i=0\n",
      "17-->index=6, i=0\n",
      "86-->index=9, i=3\n",
      "60-->index=5, i=2\n",
      "[22, 12, None, None, 4, 27, 17, 60, 86, 31, 10]\n"
     ]
    }
   ],
   "source": [
    "m, c1, c2 = 11, 1, 3\n",
    "hash1 = lambda x: x % m\n",
    "hash2 = lambda x: 1 + (x % (m - 1))\n",
    "a = [10, 22, 31, 4, 12, 27, 17, 86, 60]\n",
    "\n",
    "print('------ linear probing ------')\n",
    "T = [None for i in range(m)]\n",
    "for k in a:\n",
    "    i = 0\n",
    "    index = hash1(k)\n",
    "    while T[(index + i) % 11] != None:\n",
    "        i += 1\n",
    "    T[(index + i) % 11] = k\n",
    "    print('{k}-->index={index}, i={i}'.format(k=k, index=index, i=i))\n",
    "print(T)\n",
    "\n",
    "print('------ quadratic probing ------')\n",
    "T = [None for i in range(m)]\n",
    "for k in a:\n",
    "    i = 0\n",
    "    index = hash1(k)\n",
    "    while T[(index + c1*i + c2*i**2) % 11] != None:\n",
    "        i += 1\n",
    "    T[(index + c1*i + c2*i**2) % 11] = k\n",
    "    print('{k}-->index={index}, i={i}'.format(k=k, index=index, i=i))\n",
    "print(T)\n",
    "\n",
    "print('------ double hashing ------')\n",
    "T = [None for i in range(m)]\n",
    "for k in a:\n",
    "    i = 0\n",
    "    index = hash1(k)\n",
    "    while T[(index + i*hash2(k)) % 11] != None:\n",
    "        i += 1\n",
    "    T[(index + i*hash2(k)) % 11] = k\n",
    "    print('{k}-->index={index}, i={i}'.format(k=k, index=index, i=i))\n",
    "print(T)"
   ]
  },
  {
   "cell_type": "code",
   "execution_count": 2,
   "metadata": {},
   "outputs": [
    {
     "name": "stdout",
     "output_type": "stream",
     "text": [
      "[1, 4, 7, 10, 13, 16, 19, 22, 25, 28]\n",
      "[2, 5, 8, 11, 14, 17, 20, 23, 26, 29]\n"
     ]
    },
    {
     "data": {
      "text/plain": [
       "14"
      ]
     },
     "execution_count": 2,
     "metadata": {},
     "output_type": "execute_result"
    }
   ],
   "source": [
    "def function(x, y, xp, xr, yp, yr):\n",
    "    if xp == xr or yp == yr: return min(x[xp], y[yp])\n",
    "    p = (xp + xr) // 2\n",
    "    q = (yp + yr) // 2\n",
    "    if x[p] < y[q]: return function(x, y, p, xr, yp, q)\n",
    "    elif x[p] > y[q]: return function(x, y, xp, p, q, yr)\n",
    "    else: return x[p]\n",
    "    \n",
    "x = [i for i in range(1, 30, 3)]\n",
    "y = [i for i in range(2, 30, 3)]\n",
    "\n",
    "print(x)\n",
    "print(y)\n",
    "function(x, y, 0, len(x), 0, len(y))"
   ]
  },
  {
   "cell_type": "code",
   "execution_count": 3,
   "metadata": {},
   "outputs": [
    {
     "name": "stdout",
     "output_type": "stream",
     "text": [
      "23 2\n",
      "[[4, 6, 11, 16, 18], [3, 5, 12, 18, 21]]\n",
      "[[0, 1, 1, 1, 1], [0, 2, 2, 2, 1]]\n"
     ]
    }
   ],
   "source": [
    "# FASTEST-WAY\n",
    "e = [1, 1]\n",
    "x = [6, 2]\n",
    "a = [[3, 2, 5, 5, 2], [2, 2, 7, 6, 4]]\n",
    "t = [[1, 2, 3, 1], [2, 2, 1, 2]]\n",
    "f = [[0 for _ in range(5)] for _ in range(2)]\n",
    "l = [[0 for _ in range(5)] for _ in range(2)]\n",
    "\n",
    "f[0][0] = e[0] + a[0][0]\n",
    "f[1][0] = e[1] + a[1][0]\n",
    "for j in range(1, 5):\n",
    "    if f[0][j-1] + a[0][j] <= f[1][j-1] + t[1][j-1] + a[0][j]:\n",
    "        f[0][j] = f[0][j-1] + a[0][j]\n",
    "        l[0][j] = 1\n",
    "    else:\n",
    "        f[0][j] = f[1][j-1] + t[1][j-1] + a[0][j]\n",
    "        l[0][j] = 2\n",
    "    if f[1][j-1] + a[1][j] <= f[0][j-1] + t[0][j-1] + a[1][j]: \n",
    "        f[1][j] = f[1][j-1] + a[1][j]\n",
    "        l[1][j] = 2\n",
    "    else:\n",
    "        f[1][j] = f[0][j-1] + t[0][j-1] + a[1][j]\n",
    "        l[1][j] = 1\n",
    "if f[0][4] + x[0] <= f[1][4] + x[1]:\n",
    "    print(f[0][4] + x[0], 1)\n",
    "else:\n",
    "    print(f[1][4] + x[1], 2)\n",
    "print(f)\n",
    "print(l)"
   ]
  },
  {
   "cell_type": "code",
   "execution_count": 4,
   "metadata": {},
   "outputs": [
    {
     "name": "stdout",
     "output_type": "stream",
     "text": [
      "202\n",
      "[[0, 0, 0, 0, 0, 0], [0, 0, 105, 112, 152, 202], [0, 0, 0, 42, 98, 152], [0, 0, 0, 0, 24, 70], [0, 0, 0, 0, 0, 40], [0, 0, 0, 0, 0, 0]]\n",
      "[[0, 0, 0, 0, 0, 0], [0, 0, 1, 1, 3, 3], [0, 0, 0, 2, 3, 3], [0, 0, 0, 0, 3, 3], [0, 0, 0, 0, 0, 4], [0, 0, 0, 0, 0, 0]]\n",
      "(A[0]((A[1](A[2]A[3]))(A[4]A[5])))\n"
     ]
    }
   ],
   "source": [
    "def RECURSIVE_MATRIX_CHAIN(p, i, j, m, s):\n",
    "    if i == j: return 0\n",
    "    m[i][j] = 1 << 64 - 1\n",
    "    for k in range(i, j):\n",
    "        temp = RECURSIVE_MATRIX_CHAIN(p, i, k, m, s) + RECURSIVE_MATRIX_CHAIN(p, k+1, j, m, s) + p[i-1]*p[k]*p[j]\n",
    "        if m[i][j] > temp: m[i][j], s[i][j] = temp, k\n",
    "    return m[i][j]\n",
    "\n",
    "def Print_Optimal_Parens(s, i, j):\n",
    "    if i == j: return 'A[{}]'.format(i)\n",
    "    else: return '({}{})'.format(Print_Optimal_Parens(s, i, s[i][j]), Print_Optimal_Parens(s, s[i][j]+1, j))\n",
    "\n",
    "if __name__ == '__main__':\n",
    "    p = [5, 7, 3, 2, 4, 5]\n",
    "    m = [[0 for _ in range(len(p))] for _ in range(len(p))]\n",
    "    s = [[0 for _ in range(len(p))] for _ in range(len(p))]\n",
    "    print(RECURSIVE_MATRIX_CHAIN(p, 1, len(p)-1, m, s))\n",
    "    print(m)\n",
    "    print(s)\n",
    "    print(Print_Optimal_Parens(s, 0, len(p)-1))"
   ]
  }
 ],
 "metadata": {
  "kernelspec": {
   "display_name": "Python 3",
   "language": "python",
   "name": "python3"
  },
  "language_info": {
   "codemirror_mode": {
    "name": "ipython",
    "version": 3
   },
   "file_extension": ".py",
   "mimetype": "text/x-python",
   "name": "python",
   "nbconvert_exporter": "python",
   "pygments_lexer": "ipython3",
   "version": "3.6.5"
  }
 },
 "nbformat": 4,
 "nbformat_minor": 2
}
