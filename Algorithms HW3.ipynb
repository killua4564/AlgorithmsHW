{
 "cells": [
  {
   "cell_type": "code",
   "execution_count": 25,
   "metadata": {},
   "outputs": [
    {
     "name": "stdout",
     "output_type": "stream",
     "text": [
      "\t\t\t\t\t\t\t\n",
      "\tUp\tUp\tLeftUp\tLeftUp\tLeft\tLeftUp\tLeftUp\n",
      "\tUp\tUp\tLeftUp\tLeftUp\tLeft\tLeftUp\tLeftUp\n",
      "\tLeftUp\tLeftUp\tUp\tUp\tLeftUp\tLeft\tLeft\n",
      "\tUp\tUp\tLeftUp\tLeftUp\tUp\tLeftUp\tLeftUp\n",
      "\tLeftUp\tLeftUp\tUp\tUp\tLeftUp\tUp\tUp\n",
      "\tUp\tUp\tLeftUp\tLeftUp\tUp\tLeftUp\tLeftUp\n",
      "\n",
      "0\t0\t0\t0\t0\t0\t0\t0\n",
      "0\t0\t0\t1\t1\t1\t1\t1\n",
      "0\t0\t0\t1\t2\t2\t2\t2\n",
      "0\t1\t1\t1\t2\t3\t3\t3\n",
      "0\t1\t1\t2\t2\t3\t4\t4\n",
      "0\t1\t2\t2\t2\t3\t4\t4\n",
      "0\t1\t2\t3\t3\t3\t4\t5\n"
     ]
    }
   ],
   "source": [
    "m = '110101'\n",
    "n = '0011011'\n",
    "b = [['' for _ in range(len(n)+1)] for _ in range(len(m)+1)]\n",
    "c = [[0 for _ in range(len(n)+1)] for _ in range(len(m)+1)]\n",
    "for i in range(1, len(m)+1):\n",
    "    for j in range(1, len(n)+1):\n",
    "        if m[i-1] == n[j-1]: c[i][j], b[i][j] = c[i-1][j-1]+1, 'LeftUp'\n",
    "        elif c[i-1][j] >= c[i][j-1]: c[i][j], b[i][j] = c[i-1][j], 'Up'\n",
    "        else: c[i][j], b[i][j] = c[i][j-1], 'Left'\n",
    "\n",
    "print('\\n'.join(['\\t'.join(i) for i in b]))\n",
    "print()\n",
    "print('\\n'.join(['\\t'.join(list(map(str, i))) for i in c]))"
   ]
  },
  {
   "cell_type": "code",
   "execution_count": 1,
   "metadata": {},
   "outputs": [
    {
     "name": "stdout",
     "output_type": "stream",
     "text": [
      "0\t0\t1\t3\t8\t3\t9\t6\t7\t2\n",
      "1\t0\t1\t1\t1\t1\t1\t1\t1\t1\n",
      "3\t0\t0\t2\t2\t2\t2\t2\t2\t2\n",
      "8\t0\t0\t0\t3\t3\t3\t3\t3\t2\n",
      "3\t0\t0\t0\t0\t3\t4\t3\t3\t2\n",
      "9\t0\t0\t0\t0\t0\t4\t4\t4\t2\n",
      "6\t0\t0\t0\t0\t0\t0\t4\t4\t2\n",
      "7\t0\t0\t0\t0\t0\t0\t0\t5\t2\n",
      "2\t0\t0\t0\t0\t0\t0\t0\t0\t2\n"
     ]
    }
   ],
   "source": [
    "a = [1, 3, 8, 3, 9, 6, 7, 2]\n",
    "c = [[0 for _ in range(len(a)+1)] for _ in range(len(a)+1)]\n",
    "    \n",
    "for i in range(1, len(a)+1):\n",
    "    c[0][i] = 1\n",
    "    for j in range(i+1, len(a)+1):\n",
    "        if a[i-1] <= a[j-1]: c[i][j] = max(c[i-1][i]+1, c[i-1][j])\n",
    "        else: c[i][j] = c[i-1][j]\n",
    "        \n",
    "print('\\t'.join(list(map(str, [0, 0] + a))))\n",
    "print('\\n'.join(['\\t'.join(list(map(str, [j] + i))) for i, j in zip(c, a)]))"
   ]
  },
  {
   "cell_type": "code",
   "execution_count": 82,
   "metadata": {},
   "outputs": [
    {
     "data": {
      "text/plain": [
       "40"
      ]
     },
     "execution_count": 82,
     "metadata": {},
     "output_type": "execute_result"
    }
   ],
   "source": [
    "W = 55\n",
    "value = [2, 7, 30, 31, 9, 5, 5, 1]\n",
    "weight = [4, 10, 44, 43, 12, 9, 8, 2]\n",
    "\n",
    "c = [0 for i in range(W+1)]\n",
    " \n",
    "def knapsack(n, W):\n",
    "    for i in range(1, n):\n",
    "        for j in range(W, 1, -1):\n",
    "            if j < weight[i]: break\n",
    "            c[j] = max(c[j], c[j - weight[i]] + value[i])\n",
    "    return c[W]\n",
    "\n",
    "knapsack(len(weight), W)"
   ]
  },
  {
   "cell_type": "code",
   "execution_count": 97,
   "metadata": {},
   "outputs": [
    {
     "data": {
      "text/plain": [
       "'[[(A, 8) |17| (G, 9)] |40| [[(C, 5) |10| [(B, 2) |5| (E, 3)]] |23| [(D, 6) |13| (F, 7)]]]'"
      ]
     },
     "execution_count": 97,
     "metadata": {},
     "output_type": "execute_result"
    }
   ],
   "source": [
    "class Item:\n",
    "    def __init__(self, letter, number):\n",
    "        self.letter = letter\n",
    "        self.number = number\n",
    "        \n",
    "    def __str__(self):\n",
    "        return '({letter}, {number})'.format(letter=self.letter, number=str(self.number))\n",
    "\n",
    "class Node:\n",
    "    def __init__(self, left, right):\n",
    "        self.left = left\n",
    "        self.right = right\n",
    "        self.number = left.number + right.number\n",
    "        \n",
    "    def __str__(self):\n",
    "        return '[{left} |{number}| {right}]'.format(left=self.left.__str__(), number=self.number, right=self.right.__str__())\n",
    "\n",
    "letters = ['A', 'B', 'C', 'D', 'E', 'F', 'G']\n",
    "numbers = [8, 2, 5, 6, 3, 7, 9]\n",
    "c = [Item(i, j) for i, j in zip(letters, numbers)]\n",
    "\n",
    "def huffman(c):\n",
    "    for i in range(1, len(c)):\n",
    "        c = sorted(c, key=lambda x: x.number)\n",
    "        c.append(Node(c[0], c[1]))\n",
    "        c = c[2:]\n",
    "    return c[0]\n",
    "    \n",
    "huffman(c).__str__()"
   ]
  },
  {
   "cell_type": "code",
   "execution_count": null,
   "metadata": {},
   "outputs": [],
   "source": []
  }
 ],
 "metadata": {
  "kernelspec": {
   "display_name": "Python 3",
   "language": "python",
   "name": "python3"
  },
  "language_info": {
   "codemirror_mode": {
    "name": "ipython",
    "version": 3
   },
   "file_extension": ".py",
   "mimetype": "text/x-python",
   "name": "python",
   "nbconvert_exporter": "python",
   "pygments_lexer": "ipython3",
   "version": "3.6.5"
  }
 },
 "nbformat": 4,
 "nbformat_minor": 2
}
